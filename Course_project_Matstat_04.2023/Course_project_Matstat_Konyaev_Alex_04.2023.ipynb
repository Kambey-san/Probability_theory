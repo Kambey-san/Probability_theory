{
 "cells": [
  {
   "cell_type": "markdown",
   "id": "08fe7d41",
   "metadata": {},
   "source": [
    "### Курсовой проект по предмету: \n",
    "## Теория вероятностей и математическая статистика"
   ]
  },
  {
   "cell_type": "markdown",
   "id": "4d7939b7",
   "metadata": {},
   "source": [
    "#### Тема: Анализ посещаемости сайта \"Роспатент\" в 2022 году. "
   ]
  },
  {
   "cell_type": "markdown",
   "id": "93777637",
   "metadata": {},
   "source": [
    "**План:**\n",
    "1. Описательная статистика\n",
    "2. Качественные и количественные характеристики данных\n",
    "3. Применения данных для построения модели линейной регрессии"
   ]
  },
  {
   "cell_type": "markdown",
   "id": "bb14765e",
   "metadata": {},
   "source": [
    "Данные взяты с сайта\n",
    "<a href='https://rospatent.gov.ru/ru/about/stat/attendance'>Роспатент</a>):"
   ]
  },
  {
   "cell_type": "code",
   "execution_count": 85,
   "id": "86f3d469",
   "metadata": {},
   "outputs": [],
   "source": [
    "import numpy as np\n",
    "import pandas as pd\n",
    "\n",
    "import matplotlib\n",
    "import matplotlib.image as img\n",
    "import matplotlib.pyplot as plt\n",
    "import matplotlib.ticker as ticker\n",
    "import datetime as dt\n",
    "import matplotlib.dates as mdates\n",
    "import seaborn as sns\n",
    "from scipy import stats\n",
    "%matplotlib inline\n",
    "\n",
    "import warnings\n",
    "warnings.filterwarnings('ignore')"
   ]
  },
  {
   "cell_type": "code",
   "execution_count": 86,
   "id": "0dfb24cf",
   "metadata": {},
   "outputs": [],
   "source": [
    "df = pd.read_csv('Роспатент_2022_V1.0.csv', encoding='cp1251', sep=';')"
   ]
  },
  {
   "cell_type": "code",
   "execution_count": 87,
   "id": "a91896e4",
   "metadata": {
    "scrolled": true
   },
   "outputs": [
    {
     "name": "stdout",
     "output_type": "stream",
     "text": [
      "       Months  Visitors   Views\n",
      "0     January    118587  456531\n",
      "1    February    126723  493033\n",
      "2       March    122327  548167\n",
      "3       April    117169  526950\n",
      "4         May     99667  336157\n",
      "5        June    141272  437626\n",
      "6        July    106007  350566\n",
      "7      August    118548  398376\n",
      "8   September    131191  413205\n",
      "9     October    138783  444524\n",
      "10   November    150289  482890\n",
      "11   December     85461  441659\n"
     ]
    }
   ],
   "source": [
    "with pd.option_context('display.max_rows', None, 'display.max_columns', None):  # more options can be specified also\n",
    "    print(df)"
   ]
  },
  {
   "cell_type": "markdown",
   "id": "94f8de4b",
   "metadata": {},
   "source": [
    "##### Max. и Min. значения:"
   ]
  },
  {
   "cell_type": "code",
   "execution_count": 88,
   "id": "c1a340bc",
   "metadata": {
    "scrolled": true
   },
   "outputs": [
    {
     "name": "stdout",
     "output_type": "stream",
     "text": [
      "Максимальное количество посетителей сайта/мес.:  150289\n",
      "Максимальное количество посещений сайта/мес.:  548167\n"
     ]
    }
   ],
   "source": [
    "print('Максимальное количество посетителей сайта/мес.: ', df['Visitors'].max().round(0))\n",
    "print('Максимальное количество посещений сайта/мес.: ', df['Views'].max().round(0))"
   ]
  },
  {
   "cell_type": "code",
   "execution_count": 89,
   "id": "518aba3d",
   "metadata": {
    "scrolled": true
   },
   "outputs": [
    {
     "name": "stdout",
     "output_type": "stream",
     "text": [
      "Миниальное количество посетителей сайта/мес.:  85461\n",
      "Миниальное количество посещений сайта/мес.:  336157\n"
     ]
    }
   ],
   "source": [
    "print('Миниальное количество посетителей сайта/мес.: ', df['Visitors'].min().round(0))\n",
    "print('Миниальное количество посещений сайта/мес.: ', df['Views'].min().round(0))"
   ]
  },
  {
   "cell_type": "markdown",
   "id": "830d84cc",
   "metadata": {},
   "source": [
    "##### Медиана:"
   ]
  },
  {
   "cell_type": "code",
   "execution_count": 90,
   "id": "c9dc0cf5",
   "metadata": {
    "scrolled": true
   },
   "outputs": [
    {
     "name": "stdout",
     "output_type": "stream",
     "text": [
      "Медиана по количеству посетителей сайта:  120457.0\n",
      "Медиана по количеству посещений сайта:  443092.0\n"
     ]
    }
   ],
   "source": [
    "print('Медиана по количеству посетителей сайта: ', df['Visitors'].median().round(0))\n",
    "print('Медиана по количеству посещений сайта: ', df['Views'].median().round(0))"
   ]
  },
  {
   "cell_type": "markdown",
   "id": "d4c645e1",
   "metadata": {},
   "source": [
    "##### Мода:"
   ]
  },
  {
   "cell_type": "code",
   "execution_count": 91,
   "id": "1eaf9c86",
   "metadata": {
    "scrolled": false
   },
   "outputs": [
    {
     "name": "stdout",
     "output_type": "stream",
     "text": [
      "[118587 126723 122327 117169  99667 141272 106007 118548 131191 138783\n",
      " 150289  85461]\n"
     ]
    }
   ],
   "source": [
    "print(df['Visitors'].unique())"
   ]
  },
  {
   "cell_type": "code",
   "execution_count": 92,
   "id": "d715bacd",
   "metadata": {
    "scrolled": true
   },
   "outputs": [
    {
     "name": "stdout",
     "output_type": "stream",
     "text": [
      "[456531 493033 548167 526950 336157 437626 350566 398376 413205 444524\n",
      " 482890 441659]\n"
     ]
    }
   ],
   "source": [
    "print(df['Views'].unique())"
   ]
  },
  {
   "cell_type": "markdown",
   "id": "f0178202",
   "metadata": {},
   "source": [
    "Мода не применима, т.к. нет повторяющихся данных!"
   ]
  },
  {
   "cell_type": "markdown",
   "id": "01f7861a",
   "metadata": {},
   "source": [
    "##### Среднее значение:"
   ]
  },
  {
   "cell_type": "code",
   "execution_count": 93,
   "id": "39743cc7",
   "metadata": {
    "scrolled": true
   },
   "outputs": [
    {
     "name": "stdout",
     "output_type": "stream",
     "text": [
      "Среднее количество посетителей сайта:  121335.0\n",
      "Среднее количество посещений сайта:  444140.0\n"
     ]
    }
   ],
   "source": [
    "print('Среднее количество посетителей сайта: ', df['Visitors'].mean().round(0))\n",
    "print('Среднее количество посещений сайта: ', df['Views'].mean().round(0))"
   ]
  },
  {
   "cell_type": "markdown",
   "id": "1d6909da",
   "metadata": {},
   "source": [
    "##### Cреднее квадратичное отклонение:"
   ]
  },
  {
   "cell_type": "code",
   "execution_count": 94,
   "id": "04c5fe26",
   "metadata": {},
   "outputs": [
    {
     "name": "stdout",
     "output_type": "stream",
     "text": [
      "Среднее квадратичное отклонение количества посетителей сайта: 18319.0\n",
      "Среднее квадратичное отклонение количества просмотров сайта: 64131.0\n"
     ]
    }
   ],
   "source": [
    "print('Среднее квадратичное отклонение количества посетителей сайта:', df['Visitors'].std( ).round(0))\n",
    "print('Среднее квадратичное отклонение количества просмотров сайта:', df['Views'].std( ).round(0))"
   ]
  },
  {
   "cell_type": "markdown",
   "id": "75a7b27b",
   "metadata": {},
   "source": [
    "##### Дисперсия:"
   ]
  },
  {
   "cell_type": "markdown",
   "id": "ca963dd7",
   "metadata": {},
   "source": [
    "$$Смещённая$$"
   ]
  },
  {
   "cell_type": "code",
   "execution_count": 95,
   "id": "0094f70c",
   "metadata": {},
   "outputs": [
    {
     "name": "stdout",
     "output_type": "stream",
     "text": [
      "Дисперсия количества посетителей сайта: 307622854.0\n",
      "Дисперсия количества просмотров сайта: 3770101030.0\n"
     ]
    }
   ],
   "source": [
    "print('Дисперсия количества посетителей сайта:', df['Visitors'].var(ddof=0).round(0))\n",
    "print('Дисперсия количества просмотров сайта:', df['Views'].var(ddof=0).round(0))"
   ]
  },
  {
   "cell_type": "markdown",
   "id": "e8cadef3",
   "metadata": {},
   "source": [
    "$$Несмещённая$$"
   ]
  },
  {
   "cell_type": "code",
   "execution_count": 96,
   "id": "f0e75f00",
   "metadata": {},
   "outputs": [
    {
     "name": "stdout",
     "output_type": "stream",
     "text": [
      "Несмещённая дисперсия количества посетителей сайта: 335588568.0\n",
      "Несмещённая дисперсия количества просмотров сайта: 4112837487.0\n"
     ]
    }
   ],
   "source": [
    "print('Несмещённая дисперсия количества посетителей сайта:', df['Visitors'].var(ddof=1).round(0))\n",
    "print('Несмещённая дисперсия количества просмотров сайта:', df['Views'].var(ddof=1).round(0))"
   ]
  },
  {
   "cell_type": "markdown",
   "id": "82537e00",
   "metadata": {},
   "source": [
    "##### Обзор и проверка данных, вычисление квантилий (25%, 50%, 75%):"
   ]
  },
  {
   "cell_type": "code",
   "execution_count": 97,
   "id": "d562f6e2",
   "metadata": {},
   "outputs": [
    {
     "data": {
      "text/html": [
       "<div>\n",
       "<style scoped>\n",
       "    .dataframe tbody tr th:only-of-type {\n",
       "        vertical-align: middle;\n",
       "    }\n",
       "\n",
       "    .dataframe tbody tr th {\n",
       "        vertical-align: top;\n",
       "    }\n",
       "\n",
       "    .dataframe thead th {\n",
       "        text-align: right;\n",
       "    }\n",
       "</style>\n",
       "<table border=\"1\" class=\"dataframe\">\n",
       "  <thead>\n",
       "    <tr style=\"text-align: right;\">\n",
       "      <th></th>\n",
       "      <th>Visitors</th>\n",
       "      <th>Views</th>\n",
       "    </tr>\n",
       "  </thead>\n",
       "  <tbody>\n",
       "    <tr>\n",
       "      <th>count</th>\n",
       "      <td>12.000000</td>\n",
       "      <td>12.000000</td>\n",
       "    </tr>\n",
       "    <tr>\n",
       "      <th>mean</th>\n",
       "      <td>121335.333333</td>\n",
       "      <td>444140.333333</td>\n",
       "    </tr>\n",
       "    <tr>\n",
       "      <th>std</th>\n",
       "      <td>18319.076606</td>\n",
       "      <td>64131.407960</td>\n",
       "    </tr>\n",
       "    <tr>\n",
       "      <th>min</th>\n",
       "      <td>85461.000000</td>\n",
       "      <td>336157.000000</td>\n",
       "    </tr>\n",
       "    <tr>\n",
       "      <th>25%</th>\n",
       "      <td>114378.500000</td>\n",
       "      <td>409497.750000</td>\n",
       "    </tr>\n",
       "    <tr>\n",
       "      <th>50%</th>\n",
       "      <td>120457.000000</td>\n",
       "      <td>443091.500000</td>\n",
       "    </tr>\n",
       "    <tr>\n",
       "      <th>75%</th>\n",
       "      <td>133089.000000</td>\n",
       "      <td>485425.750000</td>\n",
       "    </tr>\n",
       "    <tr>\n",
       "      <th>max</th>\n",
       "      <td>150289.000000</td>\n",
       "      <td>548167.000000</td>\n",
       "    </tr>\n",
       "  </tbody>\n",
       "</table>\n",
       "</div>"
      ],
      "text/plain": [
       "            Visitors          Views\n",
       "count      12.000000      12.000000\n",
       "mean   121335.333333  444140.333333\n",
       "std     18319.076606   64131.407960\n",
       "min     85461.000000  336157.000000\n",
       "25%    114378.500000  409497.750000\n",
       "50%    120457.000000  443091.500000\n",
       "75%    133089.000000  485425.750000\n",
       "max    150289.000000  548167.000000"
      ]
     },
     "execution_count": 97,
     "metadata": {},
     "output_type": "execute_result"
    }
   ],
   "source": [
    "df.describe()"
   ]
  },
  {
   "cell_type": "markdown",
   "id": "5027ac25",
   "metadata": {},
   "source": [
    "##### Представление о распределении данных:"
   ]
  },
  {
   "cell_type": "code",
   "execution_count": 98,
   "id": "225e595a",
   "metadata": {},
   "outputs": [
    {
     "data": {
      "image/png": "[encoded data removed]",
      "text/plain": [
       "<Figure size 432x288 with 1 Axes>"
      ]
     },
     "metadata": {
      "needs_background": "light"
     },
     "output_type": "display_data"
    },
    {
     "data": {
      "image/png": "[encoded data removed]",
      "text/plain": [
       "<Figure size 432x288 with 1 Axes>"
      ]
     },
     "metadata": {
      "needs_background": "light"
     },
     "output_type": "display_data"
    }
   ],
   "source": [
    "plt.hist(df['Visitors'], bins=20)\n",
    "plt.show()\n",
    "sns.boxplot(df['Visitors'], orient='v')\n",
    "plt.show()"
   ]
  },
  {
   "cell_type": "code",
   "execution_count": 99,
   "id": "3bff557f",
   "metadata": {},
   "outputs": [
    {
     "data": {
      "image/png": "[encoded data removed]",
      "text/plain": [
       "<Figure size 432x288 with 1 Axes>"
      ]
     },
     "metadata": {
      "needs_background": "light"
     },
     "output_type": "display_data"
    },
    {
     "data": {
      "image/png": "[encoded data removed]",
      "text/plain": [
       "<Figure size 432x288 with 1 Axes>"
      ]
     },
     "metadata": {
      "needs_background": "light"
     },
     "output_type": "display_data"
    }
   ],
   "source": [
    "plt.hist(df['Views'], bins = 20)\n",
    "plt.show()\n",
    "sns.boxplot(df['Views'], orient='v')\n",
    "plt.show()"
   ]
  },
  {
   "cell_type": "markdown",
   "id": "7c9091b9",
   "metadata": {},
   "source": [
    "##### Нормальное распределение целевой переменной:"
   ]
  },
  {
   "cell_type": "code",
   "execution_count": 100,
   "id": "ba0e5dc9",
   "metadata": {},
   "outputs": [
    {
     "data": {
      "image/png": "[encoded data removed]",
      "text/plain": [
       "<Figure size 432x288 with 1 Axes>"
      ]
     },
     "metadata": {
      "needs_background": "light"
     },
     "output_type": "display_data"
    },
    {
     "data": {
      "image/png": "[encoded data removed]",
      "text/plain": [
       "<Figure size 432x288 with 1 Axes>"
      ]
     },
     "metadata": {
      "needs_background": "light"
     },
     "output_type": "display_data"
    }
   ],
   "source": [
    "sns.distplot(df['Visitors'], bins=20)\n",
    "plt.show()\n",
    "sns.distplot(df['Views'], bins=20)\n",
    "plt.show()"
   ]
  },
  {
   "cell_type": "markdown",
   "id": "2d84d5da",
   "metadata": {},
   "source": [
    "##### Анализ зависимости:"
   ]
  },
  {
   "cell_type": "code",
   "execution_count": 101,
   "id": "3e191355",
   "metadata": {
    "scrolled": false
   },
   "outputs": [
    {
     "data": {
      "image/png": "[encoded data removed]",
      "text/plain": [
       "<Figure size 1440x576 with 1 Axes>"
      ]
     },
     "metadata": {
      "needs_background": "light"
     },
     "output_type": "display_data"
    }
   ],
   "source": [
    "fig = plt.figure(figsize=(20, 8))\n",
    "plt.plot(df['Months'], df['Visitors'], df['Views'])\n",
    "plt.yscale(value=\"log\")\n",
    "plt.title('Общая динамика посещений и просмотров')\n",
    "plt.xlabel('Месяцы')\n",
    "plt.xticks(rotation=45)\n",
    "plt.plot(df['Views'], label='Views')\n",
    "plt.plot(df['Visitors'], label='Visitors')\n",
    "plt.legend(loc='upper right')\n",
    "plt.grid()"
   ]
  },
  {
   "cell_type": "code",
   "execution_count": 102,
   "id": "5f6d7ab0",
   "metadata": {
    "scrolled": true
   },
   "outputs": [
    {
     "data": {
      "image/png": "[encoded data removed]",
      "text/plain": [
       "<Figure size 576x144 with 1 Axes>"
      ]
     },
     "metadata": {
      "needs_background": "light"
     },
     "output_type": "display_data"
    }
   ],
   "source": [
    "fig = plt.figure(figsize=(8, 2))\n",
    "res = stats.probplot(df['Visitors'], plot=plt)\n",
    "plt.show()"
   ]
  },
  {
   "cell_type": "code",
   "execution_count": 103,
   "id": "a029c82f",
   "metadata": {},
   "outputs": [
    {
     "data": {
      "image/png": "[encoded data removed]",
      "text/plain": [
       "<Figure size 576x144 with 1 Axes>"
      ]
     },
     "metadata": {
      "needs_background": "light"
     },
     "output_type": "display_data"
    }
   ],
   "source": [
    "fig = plt.figure(figsize=(8, 2))\n",
    "res = stats.probplot(df['Views'], plot=plt)\n",
    "plt.show()"
   ]
  },
  {
   "cell_type": "code",
   "execution_count": 104,
   "id": "96a689f9",
   "metadata": {},
   "outputs": [
    {
     "data": {
      "text/plain": [
       "<Figure size 720x720 with 0 Axes>"
      ]
     },
     "metadata": {},
     "output_type": "display_data"
    },
    {
     "data": {
      "image/png": "[encoded data removed]",
      "text/plain": [
       "<Figure size 432x432 with 3 Axes>"
      ]
     },
     "metadata": {
      "needs_background": "light"
     },
     "output_type": "display_data"
    }
   ],
   "source": [
    "fig = plt.figure(figsize=(10, 10))\n",
    "grid = sns.jointplot(df['Visitors'], df['Views'], kind='reg')\n",
    "grid.fig.set_figwidth(6)\n",
    "grid.fig.set_figheight(6)\n",
    "plt.show()"
   ]
  },
  {
   "cell_type": "markdown",
   "id": "c2afb929",
   "metadata": {},
   "source": [
    "##### Корреляционный анализ:"
   ]
  },
  {
   "cell_type": "code",
   "execution_count": 105,
   "id": "f1db25e3",
   "metadata": {},
   "outputs": [
    {
     "data": {
      "text/html": [
       "<div>\n",
       "<style scoped>\n",
       "    .dataframe tbody tr th:only-of-type {\n",
       "        vertical-align: middle;\n",
       "    }\n",
       "\n",
       "    .dataframe tbody tr th {\n",
       "        vertical-align: top;\n",
       "    }\n",
       "\n",
       "    .dataframe thead th {\n",
       "        text-align: right;\n",
       "    }\n",
       "</style>\n",
       "<table border=\"1\" class=\"dataframe\">\n",
       "  <thead>\n",
       "    <tr style=\"text-align: right;\">\n",
       "      <th></th>\n",
       "      <th>Visitors</th>\n",
       "      <th>Views</th>\n",
       "    </tr>\n",
       "  </thead>\n",
       "  <tbody>\n",
       "    <tr>\n",
       "      <th>Visitors</th>\n",
       "      <td>1.000000</td>\n",
       "      <td>0.361532</td>\n",
       "    </tr>\n",
       "    <tr>\n",
       "      <th>Views</th>\n",
       "      <td>0.361532</td>\n",
       "      <td>1.000000</td>\n",
       "    </tr>\n",
       "  </tbody>\n",
       "</table>\n",
       "</div>"
      ],
      "text/plain": [
       "          Visitors     Views\n",
       "Visitors  1.000000  0.361532\n",
       "Views     0.361532  1.000000"
      ]
     },
     "execution_count": 105,
     "metadata": {},
     "output_type": "execute_result"
    }
   ],
   "source": [
    "corr_matrix = df.loc[:, ['Visitors', 'Views']].corr()\n",
    "corr_matrix"
   ]
  },
  {
   "cell_type": "code",
   "execution_count": 106,
   "id": "b578a701",
   "metadata": {
    "scrolled": true
   },
   "outputs": [
    {
     "name": "stdout",
     "output_type": "stream",
     "text": [
      "Величина коэффициента корреляции:  0.36\n"
     ]
    }
   ],
   "source": [
    "print('Величина коэффициента корреляции: ', corr_matrix.loc['Visitors', 'Views'].round(2))"
   ]
  },
  {
   "cell_type": "markdown",
   "id": "0a5db75d",
   "metadata": {},
   "source": [
    "Корреляция слабая!"
   ]
  },
  {
   "cell_type": "markdown",
   "id": "ed0c7255",
   "metadata": {},
   "source": [
    "##### Ковариационный анализ:"
   ]
  },
  {
   "cell_type": "code",
   "execution_count": 107,
   "id": "e30bc4d3",
   "metadata": {},
   "outputs": [
    {
     "data": {
      "text/html": [
       "<div>\n",
       "<style scoped>\n",
       "    .dataframe tbody tr th:only-of-type {\n",
       "        vertical-align: middle;\n",
       "    }\n",
       "\n",
       "    .dataframe tbody tr th {\n",
       "        vertical-align: top;\n",
       "    }\n",
       "\n",
       "    .dataframe thead th {\n",
       "        text-align: right;\n",
       "    }\n",
       "</style>\n",
       "<table border=\"1\" class=\"dataframe\">\n",
       "  <thead>\n",
       "    <tr style=\"text-align: right;\">\n",
       "      <th></th>\n",
       "      <th>Visitors</th>\n",
       "      <th>Views</th>\n",
       "    </tr>\n",
       "  </thead>\n",
       "  <tbody>\n",
       "    <tr>\n",
       "      <th>Visitors</th>\n",
       "      <td>3.355886e+08</td>\n",
       "      <td>4.247383e+08</td>\n",
       "    </tr>\n",
       "    <tr>\n",
       "      <th>Views</th>\n",
       "      <td>4.247383e+08</td>\n",
       "      <td>4.112837e+09</td>\n",
       "    </tr>\n",
       "  </tbody>\n",
       "</table>\n",
       "</div>"
      ],
      "text/plain": [
       "              Visitors         Views\n",
       "Visitors  3.355886e+08  4.247383e+08\n",
       "Views     4.247383e+08  4.112837e+09"
      ]
     },
     "execution_count": 107,
     "metadata": {},
     "output_type": "execute_result"
    }
   ],
   "source": [
    "df.cov()"
   ]
  },
  {
   "cell_type": "markdown",
   "id": "99bbb73a",
   "metadata": {},
   "source": [
    "##### Линейная регрессия:"
   ]
  },
  {
   "cell_type": "code",
   "execution_count": 108,
   "id": "0c935309",
   "metadata": {},
   "outputs": [],
   "source": [
    "n = len(df['Months']) # количество наблюдений\n",
    "x = np.array(df['Visitors'], dtype=np.float64)\n",
    "y = np.array(df['Views'], dtype=np.float64)"
   ]
  },
  {
   "cell_type": "markdown",
   "id": "e234ef9e",
   "metadata": {},
   "source": [
    "Коэффициенты регрессии $a$ и $b$:"
   ]
  },
  {
   "cell_type": "code",
   "execution_count": 109,
   "id": "690e24c0",
   "metadata": {},
   "outputs": [
    {
     "data": {
      "text/plain": [
       "1.2656519214286392"
      ]
     },
     "execution_count": 109,
     "metadata": {},
     "output_type": "execute_result"
    }
   ],
   "source": [
    "b = (np.mean(x * y) - np.mean(x) * np.mean(y)) / (np.mean(x**2) - np.mean(x) ** 2)\n",
    "b"
   ]
  },
  {
   "cell_type": "code",
   "execution_count": 110,
   "id": "f3943d2e",
   "metadata": {},
   "outputs": [
    {
     "data": {
      "text/plain": [
       "290572.0355628156"
      ]
     },
     "execution_count": 110,
     "metadata": {},
     "output_type": "execute_result"
    }
   ],
   "source": [
    "a = np.mean(y) - b * np.mean(x)\n",
    "a"
   ]
  },
  {
   "cell_type": "markdown",
   "id": "b8d60611",
   "metadata": {},
   "source": [
    "Коэффициент корреляции $r$ от коэффициента $b$ и средних квадратического отклонения, посчитанного для массивов $x$ и $y$:"
   ]
  },
  {
   "cell_type": "code",
   "execution_count": 111,
   "id": "b7fa9f32",
   "metadata": {},
   "outputs": [
    {
     "name": "stdout",
     "output_type": "stream",
     "text": [
      "Коэффициент корреляции: 0.36 True\n"
     ]
    }
   ],
   "source": [
    "r = b * np.std(x) / np.std(y)\n",
    "if r.round(2) == corr_matrix.loc['Visitors', 'Views'].round(2):\n",
    "    print('Коэффициент корреляции:', r.round(2), True)\n",
    "else:\n",
    "    print(False)"
   ]
  },
  {
   "cell_type": "markdown",
   "id": "1951badd",
   "metadata": {
    "id": "yCebK69XVWCC"
   },
   "source": [
    "Kоэффициент детерминации $R^2$:"
   ]
  },
  {
   "cell_type": "code",
   "execution_count": 112,
   "id": "18ebf37e",
   "metadata": {},
   "outputs": [
    {
     "name": "stdout",
     "output_type": "stream",
     "text": [
      "Это означает, что  13.07 % вариаций количества просмотров (y) объясняется\n",
      " вариацией фактора (x) — количество посетителей сайта.\n"
     ]
    }
   ],
   "source": [
    "R2 = r**2\n",
    "R2\n",
    "print('Это означает, что ',(R2*100).round(2),'% вариаций количества просмотров (y) объясняется\\n','вариацией фактора (x) — количество посетителей сайта.')"
   ]
  },
  {
   "cell_type": "markdown",
   "id": "ab942c5b",
   "metadata": {},
   "source": [
    "Значения, предсказанные моделью данных просмотров:"
   ]
  },
  {
   "cell_type": "code",
   "execution_count": 113,
   "id": "7481d756",
   "metadata": {},
   "outputs": [
    {
     "data": {
      "text/plain": [
       "array([440661.89996927, 450959.24400202, 445395.43815542, 438867.20554469,\n",
       "       416715.76561584, 469373.21380688, 424739.9987977 , 440612.53954434,\n",
       "       456614.17678696, 466223.00617445, 480785.5971824 , 398735.91442003])"
      ]
     },
     "execution_count": 113,
     "metadata": {},
     "output_type": "execute_result"
    }
   ],
   "source": [
    "y_pred = a + b * x\n",
    "y_pred"
   ]
  },
  {
   "cell_type": "markdown",
   "id": "adfaed69",
   "metadata": {},
   "source": [
    "Оценка модели с помощью средней ошибки аппроксимации $\\overline {A}$:"
   ]
  },
  {
   "cell_type": "code",
   "execution_count": 114,
   "id": "698b11f9",
   "metadata": {
    "scrolled": true
   },
   "outputs": [
    {
     "name": "stdout",
     "output_type": "stream",
     "text": [
      "Средняя ошибка апроксимации равна 11.33 %\n"
     ]
    }
   ],
   "source": [
    "A_mean = 100 * np.mean(np.abs((y - y_pred) / y))\n",
    "print('Средняя ошибка апроксимации равна', (A_mean).round(2),'%')"
   ]
  },
  {
   "cell_type": "markdown",
   "id": "58b6e762",
   "metadata": {
    "id": "2lpGd6eKVWCw"
   },
   "source": [
    "Так как значение $\\overline {A}$ более 10%, но менее 15%, модель лишь условно описывает эмпирические данные. "
   ]
  },
  {
   "cell_type": "markdown",
   "id": "acf3ba47",
   "metadata": {},
   "source": [
    "Для оценки значимости уравнения регрессии импользуется F-критерий Фишера. Фактическое значение $F$-критерия ($F_{факт}$):"
   ]
  },
  {
   "cell_type": "code",
   "execution_count": 115,
   "id": "22744d23",
   "metadata": {},
   "outputs": [
    {
     "name": "stdout",
     "output_type": "stream",
     "text": [
      "Фактическое значение 𝐹-критерия равно 1.5 %\n"
     ]
    }
   ],
   "source": [
    "F_fact = (r**2 * (n - 2)) / (1 - r**2)\n",
    "print('Фактическое значение 𝐹-критерия равно', (F_fact).round(2),'%')"
   ]
  },
  {
   "cell_type": "markdown",
   "id": "432ef3a6",
   "metadata": {
    "id": "tRrc_mzoVWC9"
   },
   "source": [
    "При 5 % уровне значимости и степенях свободы $k_1 = 1$ и $k_2 = 12 - 2 = 10$ табличное значение критерия: $F_{кр} = 4.96$.\n",
    "\n",
    "Так как $F_{факт} = 1.5 < F_{кр} = 4.96$, уравнение регрессии не может считаться статистически значимым."
   ]
  },
  {
   "cell_type": "markdown",
   "id": "6a0ff164",
   "metadata": {
    "id": "7AW4TKZLVWDC"
   },
   "source": [
    "Для оценки статистической значимости параметров регрессии воспользуемся $t$-статистикой Стьюдента. \n",
    "\n",
    "Расчёт доверительных интервалов каждого из показателей. \n",
    "\n",
    "При $df = n - 2 = 12 - 2 = 10$ и $\\alpha = 0.05$:\n",
    "\n",
    "(см. <a href='https://statpsy.ru/t-student/t-test-tablica/'>Таблицу критических значений t-критерия Стьюдента</a>):"
   ]
  },
  {
   "cell_type": "markdown",
   "id": "6dbebc2b",
   "metadata": {
    "id": "0R9OLU3rVWDE"
   },
   "source": [
    "$$t_{кр} = 2.228$$"
   ]
  },
  {
   "cell_type": "markdown",
   "id": "1f56266c",
   "metadata": {},
   "source": [
    "Стандартная ошибка $S_{ост}$ (переменная **s_residual**) и случайные ошибки $m_a, \\; m_b$:"
   ]
  },
  {
   "cell_type": "code",
   "execution_count": 116,
   "id": "c66c6238",
   "metadata": {},
   "outputs": [
    {
     "name": "stdout",
     "output_type": "stream",
     "text": [
      "s_residual = 62711.986765027184\n",
      "m_a = 126540.18971626733\n",
      "m_b = 1.032168588915662\n"
     ]
    }
   ],
   "source": [
    "s_residual = np.sqrt(np.sum((y - y_pred)**2) / (n - 2))\n",
    "m_a = s_residual * np.sqrt(np.sum(x ** 2)) / (n * np.std(x))\n",
    "m_b = s_residual / (np.std(x) * np.sqrt(n))\n",
    "\n",
    "print('s_residual = {}\\nm_a = {}\\nm_b = {}'.format(s_residual, m_a, m_b))"
   ]
  },
  {
   "cell_type": "markdown",
   "id": "41357876",
   "metadata": {
    "id": "mrYy3Z2JVWDQ"
   },
   "source": [
    "Наблюдаемые значения критерия $t_a$ и $t_b$:"
   ]
  },
  {
   "cell_type": "code",
   "execution_count": 117,
   "id": "46f25fdb",
   "metadata": {},
   "outputs": [
    {
     "name": "stdout",
     "output_type": "stream",
     "text": [
      "2.296\n"
     ]
    }
   ],
   "source": [
    "t_a = a / m_a\n",
    "print(t_a.round(3))"
   ]
  },
  {
   "cell_type": "code",
   "execution_count": 118,
   "id": "b98c40a9",
   "metadata": {},
   "outputs": [
    {
     "name": "stdout",
     "output_type": "stream",
     "text": [
      "1.226\n"
     ]
    }
   ],
   "source": [
    "t_b = b / m_b\n",
    "print(t_b.round(3))"
   ]
  },
  {
   "cell_type": "markdown",
   "id": "20b128a8",
   "metadata": {
    "id": "qNAXIaijVWDk"
   },
   "source": [
    "Фактические значения t-статистики по отношению к табличному значению:"
   ]
  },
  {
   "cell_type": "markdown",
   "id": "1aa7e00d",
   "metadata": {
    "id": "wGlkWCg2VWDl"
   },
   "source": [
    "$$t_a = 2.296 > t_{кр} = 2.228, \\; t_b = 1.226 < t_{кр} = 2.228,$$"
   ]
  },
  {
   "cell_type": "markdown",
   "id": "50ebb511",
   "metadata": {},
   "source": [
    "Расчетный критерий $t_b$ оказался меньше табличного. Следовательно, имеющиеся данные не противоречат гипотезе, но и не доказывают ее!"
   ]
  },
  {
   "cell_type": "markdown",
   "id": "27c4efcc",
   "metadata": {},
   "source": [
    "Рассчит доверительныx интервалов для параметров регрессии $a$ и $b$. Для этого определяется предельная ошибка для каждого показателя ($\\Delta_a$ и $\\Delta_b$), используя значение $t_{кр}$, равное 2.228 (переменная **t_cr**):"
   ]
  },
  {
   "cell_type": "code",
   "execution_count": 119,
   "id": "e4e06cdc",
   "metadata": {},
   "outputs": [],
   "source": [
    "t_cr = 2.228"
   ]
  },
  {
   "cell_type": "code",
   "execution_count": 120,
   "id": "83731ee8",
   "metadata": {},
   "outputs": [
    {
     "data": {
      "text/plain": [
       "281931.5426878436"
      ]
     },
     "execution_count": 120,
     "metadata": {},
     "output_type": "execute_result"
    }
   ],
   "source": [
    "delta_a = t_cr * m_a\n",
    "delta_a"
   ]
  },
  {
   "cell_type": "code",
   "execution_count": 121,
   "id": "7275a42e",
   "metadata": {},
   "outputs": [
    {
     "data": {
      "text/plain": [
       "2.2996716161040953"
      ]
     },
     "execution_count": 121,
     "metadata": {},
     "output_type": "execute_result"
    }
   ],
   "source": [
    "delta_b = t_cr * m_b\n",
    "delta_b"
   ]
  },
  {
   "cell_type": "markdown",
   "id": "0dca0c74",
   "metadata": {},
   "source": [
    "Границы доверительных интервалов $\\gamma_{a_{min}}, \\gamma_{a_{max}}, \\gamma_{b_{min}}, \\gamma_{b_{max}}$:"
   ]
  },
  {
   "cell_type": "code",
   "execution_count": 122,
   "id": "2349fb5b",
   "metadata": {},
   "outputs": [
    {
     "data": {
      "text/plain": [
       "8640.492874971998"
      ]
     },
     "execution_count": 122,
     "metadata": {},
     "output_type": "execute_result"
    }
   ],
   "source": [
    "gamma_a_min = a - delta_a\n",
    "gamma_a_min"
   ]
  },
  {
   "cell_type": "code",
   "execution_count": 123,
   "id": "7fd14ad4",
   "metadata": {},
   "outputs": [
    {
     "data": {
      "text/plain": [
       "572503.5782506592"
      ]
     },
     "execution_count": 123,
     "metadata": {},
     "output_type": "execute_result"
    }
   ],
   "source": [
    "gamma_a_max = a + delta_a\n",
    "gamma_a_max"
   ]
  },
  {
   "cell_type": "code",
   "execution_count": 124,
   "id": "0a58f3ff",
   "metadata": {},
   "outputs": [
    {
     "data": {
      "text/plain": [
       "-1.034019694675456"
      ]
     },
     "execution_count": 124,
     "metadata": {},
     "output_type": "execute_result"
    }
   ],
   "source": [
    "gamma_b_min = b - delta_b\n",
    "gamma_b_min"
   ]
  },
  {
   "cell_type": "code",
   "execution_count": 125,
   "id": "bd568db4",
   "metadata": {},
   "outputs": [
    {
     "data": {
      "text/plain": [
       "3.5653235375327346"
      ]
     },
     "execution_count": 125,
     "metadata": {},
     "output_type": "execute_result"
    }
   ],
   "source": [
    "gamma_b_max = b + delta_b\n",
    "gamma_b_max"
   ]
  },
  {
   "cell_type": "markdown",
   "id": "4bc8496c",
   "metadata": {
    "id": "KzUe1mDhVWEk"
   },
   "source": [
    "**Вывод:** с вероятностью $p = 1 - \\alpha = 0.95$ параметры $a$ и $b$, находясь в указанных границах, являются статистически значимыми и отличны от нуля.\n",
    "\n",
    "Поместим исходные и предсказанные данные в датафрейм **df**:"
   ]
  },
  {
   "cell_type": "code",
   "execution_count": 126,
   "id": "ca8f391c",
   "metadata": {},
   "outputs": [
    {
     "data": {
      "text/html": [
       "<div>\n",
       "<style scoped>\n",
       "    .dataframe tbody tr th:only-of-type {\n",
       "        vertical-align: middle;\n",
       "    }\n",
       "\n",
       "    .dataframe tbody tr th {\n",
       "        vertical-align: top;\n",
       "    }\n",
       "\n",
       "    .dataframe thead th {\n",
       "        text-align: right;\n",
       "    }\n",
       "</style>\n",
       "<table border=\"1\" class=\"dataframe\">\n",
       "  <thead>\n",
       "    <tr style=\"text-align: right;\">\n",
       "      <th></th>\n",
       "      <th>x</th>\n",
       "      <th>y</th>\n",
       "      <th>y_pred</th>\n",
       "    </tr>\n",
       "  </thead>\n",
       "  <tbody>\n",
       "    <tr>\n",
       "      <th>0</th>\n",
       "      <td>118587.0</td>\n",
       "      <td>456531.0</td>\n",
       "      <td>440661.899969</td>\n",
       "    </tr>\n",
       "    <tr>\n",
       "      <th>1</th>\n",
       "      <td>126723.0</td>\n",
       "      <td>493033.0</td>\n",
       "      <td>450959.244002</td>\n",
       "    </tr>\n",
       "    <tr>\n",
       "      <th>2</th>\n",
       "      <td>122327.0</td>\n",
       "      <td>548167.0</td>\n",
       "      <td>445395.438155</td>\n",
       "    </tr>\n",
       "    <tr>\n",
       "      <th>3</th>\n",
       "      <td>117169.0</td>\n",
       "      <td>526950.0</td>\n",
       "      <td>438867.205545</td>\n",
       "    </tr>\n",
       "    <tr>\n",
       "      <th>4</th>\n",
       "      <td>99667.0</td>\n",
       "      <td>336157.0</td>\n",
       "      <td>416715.765616</td>\n",
       "    </tr>\n",
       "    <tr>\n",
       "      <th>5</th>\n",
       "      <td>141272.0</td>\n",
       "      <td>437626.0</td>\n",
       "      <td>469373.213807</td>\n",
       "    </tr>\n",
       "    <tr>\n",
       "      <th>6</th>\n",
       "      <td>106007.0</td>\n",
       "      <td>350566.0</td>\n",
       "      <td>424739.998798</td>\n",
       "    </tr>\n",
       "    <tr>\n",
       "      <th>7</th>\n",
       "      <td>118548.0</td>\n",
       "      <td>398376.0</td>\n",
       "      <td>440612.539544</td>\n",
       "    </tr>\n",
       "    <tr>\n",
       "      <th>8</th>\n",
       "      <td>131191.0</td>\n",
       "      <td>413205.0</td>\n",
       "      <td>456614.176787</td>\n",
       "    </tr>\n",
       "    <tr>\n",
       "      <th>9</th>\n",
       "      <td>138783.0</td>\n",
       "      <td>444524.0</td>\n",
       "      <td>466223.006174</td>\n",
       "    </tr>\n",
       "    <tr>\n",
       "      <th>10</th>\n",
       "      <td>150289.0</td>\n",
       "      <td>482890.0</td>\n",
       "      <td>480785.597182</td>\n",
       "    </tr>\n",
       "    <tr>\n",
       "      <th>11</th>\n",
       "      <td>85461.0</td>\n",
       "      <td>441659.0</td>\n",
       "      <td>398735.914420</td>\n",
       "    </tr>\n",
       "  </tbody>\n",
       "</table>\n",
       "</div>"
      ],
      "text/plain": [
       "           x         y         y_pred\n",
       "0   118587.0  456531.0  440661.899969\n",
       "1   126723.0  493033.0  450959.244002\n",
       "2   122327.0  548167.0  445395.438155\n",
       "3   117169.0  526950.0  438867.205545\n",
       "4    99667.0  336157.0  416715.765616\n",
       "5   141272.0  437626.0  469373.213807\n",
       "6   106007.0  350566.0  424739.998798\n",
       "7   118548.0  398376.0  440612.539544\n",
       "8   131191.0  413205.0  456614.176787\n",
       "9   138783.0  444524.0  466223.006174\n",
       "10  150289.0  482890.0  480785.597182\n",
       "11   85461.0  441659.0  398735.914420"
      ]
     },
     "execution_count": 126,
     "metadata": {},
     "output_type": "execute_result"
    }
   ],
   "source": [
    "df = pd.DataFrame({'x': x, 'y': y, 'y_pred': y_pred}, columns=['x', 'y', 'y_pred'])\n",
    "df"
   ]
  },
  {
   "cell_type": "markdown",
   "id": "d1b76089",
   "metadata": {
    "id": "pF4NpdpYVWEt"
   },
   "source": [
    "Сортировка значений по полю **x**:"
   ]
  },
  {
   "cell_type": "code",
   "execution_count": 127,
   "id": "4c6dfaa6",
   "metadata": {},
   "outputs": [
    {
     "data": {
      "text/html": [
       "<div>\n",
       "<style scoped>\n",
       "    .dataframe tbody tr th:only-of-type {\n",
       "        vertical-align: middle;\n",
       "    }\n",
       "\n",
       "    .dataframe tbody tr th {\n",
       "        vertical-align: top;\n",
       "    }\n",
       "\n",
       "    .dataframe thead th {\n",
       "        text-align: right;\n",
       "    }\n",
       "</style>\n",
       "<table border=\"1\" class=\"dataframe\">\n",
       "  <thead>\n",
       "    <tr style=\"text-align: right;\">\n",
       "      <th></th>\n",
       "      <th>x</th>\n",
       "      <th>y</th>\n",
       "      <th>y_pred</th>\n",
       "    </tr>\n",
       "  </thead>\n",
       "  <tbody>\n",
       "    <tr>\n",
       "      <th>11</th>\n",
       "      <td>85461.0</td>\n",
       "      <td>441659.0</td>\n",
       "      <td>398735.914420</td>\n",
       "    </tr>\n",
       "    <tr>\n",
       "      <th>4</th>\n",
       "      <td>99667.0</td>\n",
       "      <td>336157.0</td>\n",
       "      <td>416715.765616</td>\n",
       "    </tr>\n",
       "    <tr>\n",
       "      <th>6</th>\n",
       "      <td>106007.0</td>\n",
       "      <td>350566.0</td>\n",
       "      <td>424739.998798</td>\n",
       "    </tr>\n",
       "    <tr>\n",
       "      <th>3</th>\n",
       "      <td>117169.0</td>\n",
       "      <td>526950.0</td>\n",
       "      <td>438867.205545</td>\n",
       "    </tr>\n",
       "    <tr>\n",
       "      <th>7</th>\n",
       "      <td>118548.0</td>\n",
       "      <td>398376.0</td>\n",
       "      <td>440612.539544</td>\n",
       "    </tr>\n",
       "    <tr>\n",
       "      <th>0</th>\n",
       "      <td>118587.0</td>\n",
       "      <td>456531.0</td>\n",
       "      <td>440661.899969</td>\n",
       "    </tr>\n",
       "    <tr>\n",
       "      <th>2</th>\n",
       "      <td>122327.0</td>\n",
       "      <td>548167.0</td>\n",
       "      <td>445395.438155</td>\n",
       "    </tr>\n",
       "    <tr>\n",
       "      <th>1</th>\n",
       "      <td>126723.0</td>\n",
       "      <td>493033.0</td>\n",
       "      <td>450959.244002</td>\n",
       "    </tr>\n",
       "    <tr>\n",
       "      <th>8</th>\n",
       "      <td>131191.0</td>\n",
       "      <td>413205.0</td>\n",
       "      <td>456614.176787</td>\n",
       "    </tr>\n",
       "    <tr>\n",
       "      <th>9</th>\n",
       "      <td>138783.0</td>\n",
       "      <td>444524.0</td>\n",
       "      <td>466223.006174</td>\n",
       "    </tr>\n",
       "    <tr>\n",
       "      <th>5</th>\n",
       "      <td>141272.0</td>\n",
       "      <td>437626.0</td>\n",
       "      <td>469373.213807</td>\n",
       "    </tr>\n",
       "    <tr>\n",
       "      <th>10</th>\n",
       "      <td>150289.0</td>\n",
       "      <td>482890.0</td>\n",
       "      <td>480785.597182</td>\n",
       "    </tr>\n",
       "  </tbody>\n",
       "</table>\n",
       "</div>"
      ],
      "text/plain": [
       "           x         y         y_pred\n",
       "11   85461.0  441659.0  398735.914420\n",
       "4    99667.0  336157.0  416715.765616\n",
       "6   106007.0  350566.0  424739.998798\n",
       "3   117169.0  526950.0  438867.205545\n",
       "7   118548.0  398376.0  440612.539544\n",
       "0   118587.0  456531.0  440661.899969\n",
       "2   122327.0  548167.0  445395.438155\n",
       "1   126723.0  493033.0  450959.244002\n",
       "8   131191.0  413205.0  456614.176787\n",
       "9   138783.0  444524.0  466223.006174\n",
       "5   141272.0  437626.0  469373.213807\n",
       "10  150289.0  482890.0  480785.597182"
      ]
     },
     "execution_count": 127,
     "metadata": {},
     "output_type": "execute_result"
    }
   ],
   "source": [
    "df = df.sort_values('x')\n",
    "df"
   ]
  },
  {
   "cell_type": "markdown",
   "id": "65b463fd",
   "metadata": {
    "id": "FZfKDj9OVWE0"
   },
   "source": [
    "График исходных данных и теоретическая прямая по уравнению регрессии:"
   ]
  },
  {
   "cell_type": "code",
   "execution_count": 128,
   "id": "0b6b804d",
   "metadata": {},
   "outputs": [
    {
     "data": {
      "image/png": "[encoded data removed]",
      "text/plain": [
       "<Figure size 432x288 with 1 Axes>"
      ]
     },
     "metadata": {
      "needs_background": "light"
     },
     "output_type": "display_data"
    }
   ],
   "source": [
    "plt.scatter(df['x'], df['y'])\n",
    "plt.plot(df['x'], df['y_pred'])\n",
    "plt.xlabel('Visitors')\n",
    "plt.ylabel('Views')\n",
    "plt.show()"
   ]
  }
 ],
 "metadata": {
  "kernelspec": {
   "display_name": "Python 3 (ipykernel)",
   "language": "python",
   "name": "python3"
  },
  "language_info": {
   "codemirror_mode": {
    "name": "ipython",
    "version": 3
   },
   "file_extension": ".py",
   "mimetype": "text/x-python",
   "name": "python",
   "nbconvert_exporter": "python",
   "pygments_lexer": "ipython3",
   "version": "3.10.5"
  }
 },
 "nbformat": 4,
 "nbformat_minor": 5
}
